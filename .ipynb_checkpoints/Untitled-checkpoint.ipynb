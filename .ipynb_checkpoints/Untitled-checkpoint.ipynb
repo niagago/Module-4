{
 "cells": [
  {
   "cell_type": "code",
   "execution_count": 101,
   "id": "3a830caf-cff6-4890-a478-d3c008a47219",
   "metadata": {},
   "outputs": [
    {
     "data": {
      "text/plain": [
       "19.20307843387773"
      ]
     },
     "execution_count": 101,
     "metadata": {},
     "output_type": "execute_result"
    }
   ],
   "source": []
  },
  {
   "cell_type": "code",
   "execution_count": 48,
   "id": "e62ed736-d53d-4759-91c1-bdd2c8169be2",
   "metadata": {},
   "outputs": [],
   "source": []
  },
  {
   "cell_type": "code",
   "execution_count": null,
   "id": "bc7da5ec-cf37-47cf-b25b-441dfd806bd6",
   "metadata": {},
   "outputs": [],
   "source": []
  }
 ],
 "metadata": {
  "kernelspec": {
   "display_name": "Python 3 (ipykernel)",
   "language": "python",
   "name": "python3"
  },
  "language_info": {
   "codemirror_mode": {
    "name": "ipython",
    "version": 3
   },
   "file_extension": ".py",
   "mimetype": "text/x-python",
   "name": "python",
   "nbconvert_exporter": "python",
   "pygments_lexer": "ipython3",
   "version": "3.9.12"
  }
 },
 "nbformat": 4,
 "nbformat_minor": 5
}
